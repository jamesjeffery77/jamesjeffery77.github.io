{
  "nbformat": 4,
  "nbformat_minor": 0,
  "metadata": {
    "colab": {
      "name": "web_scraper.ipynb",
      "provenance": []
    },
    "kernelspec": {
      "name": "python3",
      "display_name": "Python 3"
    },
    "language_info": {
      "name": "python"
    }
  },
  "cells": [
    {
      "cell_type": "code",
      "metadata": {
        "id": "eEg6uO8G5RaM"
      },
      "source": [
        "#import packages that I  need\n",
        "import numpy as np\n",
        "import pandas as pd\n",
        "\n",
        "#web scraping\n",
        "import requests\n",
        "from bs4 import BeautifulSoup\n",
        "\n",
        "#make it so that I can download the csv file afterwards\n",
        "from google.colab import files\n",
        "#get OS to find working directory\n",
        "import os"
      ],
      "execution_count": 18,
      "outputs": []
    },
    {
      "cell_type": "markdown",
      "source": [
        "I am going to scrape two bits of data here. First is a wikipedia article showing CO2 emissions emitted by each energy source per unit of electricity generated (KWH). The data is in a table already.\n",
        "\n",
        "The second bit of data is a wikipedia article showing the relative cost for each energy source. The data is not in a table this time.\n",
        "\n",
        "I have used wikipedia because both of the underlying sources of data were in PDFs which I was unable to scrape. "
      ],
      "metadata": {
        "id": "9E4bV8XqLwl3"
      }
    },
    {
      "cell_type": "code",
      "metadata": {
        "id": "ZtUWgXHO52go"
      },
      "source": [
        "#set URL of 1st page I want to scrape\n",
        "URL1 = \"https://en.wikipedia.org/wiki/Emission_intensity\"\n",
        "\n",
        "#HTML request\n",
        "html = requests.get(URL1)\n",
        "soup = BeautifulSoup(html.content, 'html.parser')"
      ],
      "execution_count": 19,
      "outputs": []
    },
    {
      "cell_type": "code",
      "metadata": {
        "id": "xZXZNrBG6cya"
      },
      "source": [
        "# Read the different tables in the link\n",
        "tables = pd.read_html('https://en.wikipedia.org/wiki/Emission_intensity')"
      ],
      "execution_count": 20,
      "outputs": []
    },
    {
      "cell_type": "code",
      "metadata": {
        "colab": {
          "base_uri": "https://localhost:8080/",
          "height": 332
        },
        "id": "Baq4h4c46Xtg",
        "outputId": "81fc83b0-138a-4894-9c26-759879c81934"
      },
      "source": [
        "# Get the table I need (the 1st one)\n",
        "tables[0]"
      ],
      "execution_count": 21,
      "outputs": [
        {
          "output_type": "execute_result",
          "data": {
            "text/html": [
              "\n",
              "  <div id=\"df-d4a7ec1e-b9b1-4fef-a5f4-9f98b577df19\">\n",
              "    <div class=\"colab-df-container\">\n",
              "      <div>\n",
              "<style scoped>\n",
              "    .dataframe tbody tr th:only-of-type {\n",
              "        vertical-align: middle;\n",
              "    }\n",
              "\n",
              "    .dataframe tbody tr th {\n",
              "        vertical-align: top;\n",
              "    }\n",
              "\n",
              "    .dataframe thead th {\n",
              "        text-align: right;\n",
              "    }\n",
              "</style>\n",
              "<table border=\"1\" class=\"dataframe\">\n",
              "  <thead>\n",
              "    <tr style=\"text-align: right;\">\n",
              "      <th></th>\n",
              "      <th>Technology</th>\n",
              "      <th>Description</th>\n",
              "      <th>50th percentile (g CO2-eq/kWhe)</th>\n",
              "    </tr>\n",
              "  </thead>\n",
              "  <tbody>\n",
              "    <tr>\n",
              "      <th>0</th>\n",
              "      <td>Hydroelectric</td>\n",
              "      <td>reservoir</td>\n",
              "      <td>4</td>\n",
              "    </tr>\n",
              "    <tr>\n",
              "      <th>1</th>\n",
              "      <td>Wind</td>\n",
              "      <td>onshore</td>\n",
              "      <td>12</td>\n",
              "    </tr>\n",
              "    <tr>\n",
              "      <th>2</th>\n",
              "      <td>Nuclear</td>\n",
              "      <td>various generation II reactor types</td>\n",
              "      <td>16</td>\n",
              "    </tr>\n",
              "    <tr>\n",
              "      <th>3</th>\n",
              "      <td>Biomass</td>\n",
              "      <td>various</td>\n",
              "      <td>230</td>\n",
              "    </tr>\n",
              "    <tr>\n",
              "      <th>4</th>\n",
              "      <td>Solar thermal</td>\n",
              "      <td>parabolic trough</td>\n",
              "      <td>22</td>\n",
              "    </tr>\n",
              "    <tr>\n",
              "      <th>5</th>\n",
              "      <td>Geothermal</td>\n",
              "      <td>hot dry rock</td>\n",
              "      <td>45</td>\n",
              "    </tr>\n",
              "    <tr>\n",
              "      <th>6</th>\n",
              "      <td>Solar PV</td>\n",
              "      <td>Polycrystalline silicon</td>\n",
              "      <td>46</td>\n",
              "    </tr>\n",
              "    <tr>\n",
              "      <th>7</th>\n",
              "      <td>Natural gas</td>\n",
              "      <td>various combined cycle turbines without scrubbing</td>\n",
              "      <td>469</td>\n",
              "    </tr>\n",
              "    <tr>\n",
              "      <th>8</th>\n",
              "      <td>Coal</td>\n",
              "      <td>various generator types without scrubbing</td>\n",
              "      <td>1001</td>\n",
              "    </tr>\n",
              "  </tbody>\n",
              "</table>\n",
              "</div>\n",
              "      <button class=\"colab-df-convert\" onclick=\"convertToInteractive('df-d4a7ec1e-b9b1-4fef-a5f4-9f98b577df19')\"\n",
              "              title=\"Convert this dataframe to an interactive table.\"\n",
              "              style=\"display:none;\">\n",
              "        \n",
              "  <svg xmlns=\"http://www.w3.org/2000/svg\" height=\"24px\"viewBox=\"0 0 24 24\"\n",
              "       width=\"24px\">\n",
              "    <path d=\"M0 0h24v24H0V0z\" fill=\"none\"/>\n",
              "    <path d=\"M18.56 5.44l.94 2.06.94-2.06 2.06-.94-2.06-.94-.94-2.06-.94 2.06-2.06.94zm-11 1L8.5 8.5l.94-2.06 2.06-.94-2.06-.94L8.5 2.5l-.94 2.06-2.06.94zm10 10l.94 2.06.94-2.06 2.06-.94-2.06-.94-.94-2.06-.94 2.06-2.06.94z\"/><path d=\"M17.41 7.96l-1.37-1.37c-.4-.4-.92-.59-1.43-.59-.52 0-1.04.2-1.43.59L10.3 9.45l-7.72 7.72c-.78.78-.78 2.05 0 2.83L4 21.41c.39.39.9.59 1.41.59.51 0 1.02-.2 1.41-.59l7.78-7.78 2.81-2.81c.8-.78.8-2.07 0-2.86zM5.41 20L4 18.59l7.72-7.72 1.47 1.35L5.41 20z\"/>\n",
              "  </svg>\n",
              "      </button>\n",
              "      \n",
              "  <style>\n",
              "    .colab-df-container {\n",
              "      display:flex;\n",
              "      flex-wrap:wrap;\n",
              "      gap: 12px;\n",
              "    }\n",
              "\n",
              "    .colab-df-convert {\n",
              "      background-color: #E8F0FE;\n",
              "      border: none;\n",
              "      border-radius: 50%;\n",
              "      cursor: pointer;\n",
              "      display: none;\n",
              "      fill: #1967D2;\n",
              "      height: 32px;\n",
              "      padding: 0 0 0 0;\n",
              "      width: 32px;\n",
              "    }\n",
              "\n",
              "    .colab-df-convert:hover {\n",
              "      background-color: #E2EBFA;\n",
              "      box-shadow: 0px 1px 2px rgba(60, 64, 67, 0.3), 0px 1px 3px 1px rgba(60, 64, 67, 0.15);\n",
              "      fill: #174EA6;\n",
              "    }\n",
              "\n",
              "    [theme=dark] .colab-df-convert {\n",
              "      background-color: #3B4455;\n",
              "      fill: #D2E3FC;\n",
              "    }\n",
              "\n",
              "    [theme=dark] .colab-df-convert:hover {\n",
              "      background-color: #434B5C;\n",
              "      box-shadow: 0px 1px 3px 1px rgba(0, 0, 0, 0.15);\n",
              "      filter: drop-shadow(0px 1px 2px rgba(0, 0, 0, 0.3));\n",
              "      fill: #FFFFFF;\n",
              "    }\n",
              "  </style>\n",
              "\n",
              "      <script>\n",
              "        const buttonEl =\n",
              "          document.querySelector('#df-d4a7ec1e-b9b1-4fef-a5f4-9f98b577df19 button.colab-df-convert');\n",
              "        buttonEl.style.display =\n",
              "          google.colab.kernel.accessAllowed ? 'block' : 'none';\n",
              "\n",
              "        async function convertToInteractive(key) {\n",
              "          const element = document.querySelector('#df-d4a7ec1e-b9b1-4fef-a5f4-9f98b577df19');\n",
              "          const dataTable =\n",
              "            await google.colab.kernel.invokeFunction('convertToInteractive',\n",
              "                                                     [key], {});\n",
              "          if (!dataTable) return;\n",
              "\n",
              "          const docLinkHtml = 'Like what you see? Visit the ' +\n",
              "            '<a target=\"_blank\" href=https://colab.research.google.com/notebooks/data_table.ipynb>data table notebook</a>'\n",
              "            + ' to learn more about interactive tables.';\n",
              "          element.innerHTML = '';\n",
              "          dataTable['output_type'] = 'display_data';\n",
              "          await google.colab.output.renderOutput(dataTable, element);\n",
              "          const docLink = document.createElement('div');\n",
              "          docLink.innerHTML = docLinkHtml;\n",
              "          element.appendChild(docLink);\n",
              "        }\n",
              "      </script>\n",
              "    </div>\n",
              "  </div>\n",
              "  "
            ],
            "text/plain": [
              "      Technology  ... 50th percentile (g CO2-eq/kWhe)\n",
              "0  Hydroelectric  ...                               4\n",
              "1           Wind  ...                              12\n",
              "2        Nuclear  ...                              16\n",
              "3        Biomass  ...                             230\n",
              "4  Solar thermal  ...                              22\n",
              "5     Geothermal  ...                              45\n",
              "6       Solar PV  ...                              46\n",
              "7    Natural gas  ...                             469\n",
              "8           Coal  ...                            1001\n",
              "\n",
              "[9 rows x 3 columns]"
            ]
          },
          "metadata": {},
          "execution_count": 21
        }
      ]
    },
    {
      "cell_type": "code",
      "metadata": {
        "id": "TdTCHOXn9a3f"
      },
      "source": [
        "# Turn the table into a dataframe so I can start changing it\n",
        "emissions = tables[0]"
      ],
      "execution_count": 22,
      "outputs": []
    },
    {
      "cell_type": "code",
      "metadata": {
        "id": "9Bt2LpQF9o63",
        "colab": {
          "base_uri": "https://localhost:8080/",
          "height": 206
        },
        "outputId": "6c38765c-3079-4a05-c399-9b335553d8ad"
      },
      "source": [
        "# Rename the column titles \n",
        "emissions.columns = ['Technology','Description', 'CO2 Emission Value']\n",
        "emissions.head(5)"
      ],
      "execution_count": 23,
      "outputs": [
        {
          "output_type": "execute_result",
          "data": {
            "text/html": [
              "\n",
              "  <div id=\"df-e93f6003-ff22-4404-b191-85ea7acd5eac\">\n",
              "    <div class=\"colab-df-container\">\n",
              "      <div>\n",
              "<style scoped>\n",
              "    .dataframe tbody tr th:only-of-type {\n",
              "        vertical-align: middle;\n",
              "    }\n",
              "\n",
              "    .dataframe tbody tr th {\n",
              "        vertical-align: top;\n",
              "    }\n",
              "\n",
              "    .dataframe thead th {\n",
              "        text-align: right;\n",
              "    }\n",
              "</style>\n",
              "<table border=\"1\" class=\"dataframe\">\n",
              "  <thead>\n",
              "    <tr style=\"text-align: right;\">\n",
              "      <th></th>\n",
              "      <th>Technology</th>\n",
              "      <th>Description</th>\n",
              "      <th>CO2 Emission Value</th>\n",
              "    </tr>\n",
              "  </thead>\n",
              "  <tbody>\n",
              "    <tr>\n",
              "      <th>0</th>\n",
              "      <td>Hydroelectric</td>\n",
              "      <td>reservoir</td>\n",
              "      <td>4</td>\n",
              "    </tr>\n",
              "    <tr>\n",
              "      <th>1</th>\n",
              "      <td>Wind</td>\n",
              "      <td>onshore</td>\n",
              "      <td>12</td>\n",
              "    </tr>\n",
              "    <tr>\n",
              "      <th>2</th>\n",
              "      <td>Nuclear</td>\n",
              "      <td>various generation II reactor types</td>\n",
              "      <td>16</td>\n",
              "    </tr>\n",
              "    <tr>\n",
              "      <th>3</th>\n",
              "      <td>Biomass</td>\n",
              "      <td>various</td>\n",
              "      <td>230</td>\n",
              "    </tr>\n",
              "    <tr>\n",
              "      <th>4</th>\n",
              "      <td>Solar thermal</td>\n",
              "      <td>parabolic trough</td>\n",
              "      <td>22</td>\n",
              "    </tr>\n",
              "  </tbody>\n",
              "</table>\n",
              "</div>\n",
              "      <button class=\"colab-df-convert\" onclick=\"convertToInteractive('df-e93f6003-ff22-4404-b191-85ea7acd5eac')\"\n",
              "              title=\"Convert this dataframe to an interactive table.\"\n",
              "              style=\"display:none;\">\n",
              "        \n",
              "  <svg xmlns=\"http://www.w3.org/2000/svg\" height=\"24px\"viewBox=\"0 0 24 24\"\n",
              "       width=\"24px\">\n",
              "    <path d=\"M0 0h24v24H0V0z\" fill=\"none\"/>\n",
              "    <path d=\"M18.56 5.44l.94 2.06.94-2.06 2.06-.94-2.06-.94-.94-2.06-.94 2.06-2.06.94zm-11 1L8.5 8.5l.94-2.06 2.06-.94-2.06-.94L8.5 2.5l-.94 2.06-2.06.94zm10 10l.94 2.06.94-2.06 2.06-.94-2.06-.94-.94-2.06-.94 2.06-2.06.94z\"/><path d=\"M17.41 7.96l-1.37-1.37c-.4-.4-.92-.59-1.43-.59-.52 0-1.04.2-1.43.59L10.3 9.45l-7.72 7.72c-.78.78-.78 2.05 0 2.83L4 21.41c.39.39.9.59 1.41.59.51 0 1.02-.2 1.41-.59l7.78-7.78 2.81-2.81c.8-.78.8-2.07 0-2.86zM5.41 20L4 18.59l7.72-7.72 1.47 1.35L5.41 20z\"/>\n",
              "  </svg>\n",
              "      </button>\n",
              "      \n",
              "  <style>\n",
              "    .colab-df-container {\n",
              "      display:flex;\n",
              "      flex-wrap:wrap;\n",
              "      gap: 12px;\n",
              "    }\n",
              "\n",
              "    .colab-df-convert {\n",
              "      background-color: #E8F0FE;\n",
              "      border: none;\n",
              "      border-radius: 50%;\n",
              "      cursor: pointer;\n",
              "      display: none;\n",
              "      fill: #1967D2;\n",
              "      height: 32px;\n",
              "      padding: 0 0 0 0;\n",
              "      width: 32px;\n",
              "    }\n",
              "\n",
              "    .colab-df-convert:hover {\n",
              "      background-color: #E2EBFA;\n",
              "      box-shadow: 0px 1px 2px rgba(60, 64, 67, 0.3), 0px 1px 3px 1px rgba(60, 64, 67, 0.15);\n",
              "      fill: #174EA6;\n",
              "    }\n",
              "\n",
              "    [theme=dark] .colab-df-convert {\n",
              "      background-color: #3B4455;\n",
              "      fill: #D2E3FC;\n",
              "    }\n",
              "\n",
              "    [theme=dark] .colab-df-convert:hover {\n",
              "      background-color: #434B5C;\n",
              "      box-shadow: 0px 1px 3px 1px rgba(0, 0, 0, 0.15);\n",
              "      filter: drop-shadow(0px 1px 2px rgba(0, 0, 0, 0.3));\n",
              "      fill: #FFFFFF;\n",
              "    }\n",
              "  </style>\n",
              "\n",
              "      <script>\n",
              "        const buttonEl =\n",
              "          document.querySelector('#df-e93f6003-ff22-4404-b191-85ea7acd5eac button.colab-df-convert');\n",
              "        buttonEl.style.display =\n",
              "          google.colab.kernel.accessAllowed ? 'block' : 'none';\n",
              "\n",
              "        async function convertToInteractive(key) {\n",
              "          const element = document.querySelector('#df-e93f6003-ff22-4404-b191-85ea7acd5eac');\n",
              "          const dataTable =\n",
              "            await google.colab.kernel.invokeFunction('convertToInteractive',\n",
              "                                                     [key], {});\n",
              "          if (!dataTable) return;\n",
              "\n",
              "          const docLinkHtml = 'Like what you see? Visit the ' +\n",
              "            '<a target=\"_blank\" href=https://colab.research.google.com/notebooks/data_table.ipynb>data table notebook</a>'\n",
              "            + ' to learn more about interactive tables.';\n",
              "          element.innerHTML = '';\n",
              "          dataTable['output_type'] = 'display_data';\n",
              "          await google.colab.output.renderOutput(dataTable, element);\n",
              "          const docLink = document.createElement('div');\n",
              "          docLink.innerHTML = docLinkHtml;\n",
              "          element.appendChild(docLink);\n",
              "        }\n",
              "      </script>\n",
              "    </div>\n",
              "  </div>\n",
              "  "
            ],
            "text/plain": [
              "      Technology                          Description  CO2 Emission Value\n",
              "0  Hydroelectric                            reservoir                   4\n",
              "1           Wind                              onshore                  12\n",
              "2        Nuclear  various generation II reactor types                  16\n",
              "3        Biomass                              various                 230\n",
              "4  Solar thermal                     parabolic trough                  22"
            ]
          },
          "metadata": {},
          "execution_count": 23
        }
      ]
    },
    {
      "cell_type": "code",
      "source": [
        "# save as csv\n",
        "emissions.to_csv(\"week7_C02EmissionValue.csv\")"
      ],
      "metadata": {
        "id": "SnhavcbwW1h4"
      },
      "execution_count": 57,
      "outputs": []
    },
    {
      "cell_type": "code",
      "source": [
        ""
      ],
      "metadata": {
        "id": "O0aTTbbmY8uw"
      },
      "execution_count": null,
      "outputs": []
    },
    {
      "cell_type": "code",
      "source": [
        "a"
      ],
      "metadata": {
        "id": "BXqM4VyhY5WU"
      },
      "execution_count": null,
      "outputs": []
    },
    {
      "cell_type": "markdown",
      "source": [
        "was planning on scraping another page but some of the data was on the wikipedia page, and the rest was on a pdf so I did it manually."
      ],
      "metadata": {
        "id": "0RPfdynDW0wg"
      }
    },
    {
      "cell_type": "code",
      "source": [
        "#######################################################################"
      ],
      "metadata": {
        "id": "D6HAK469XBwN"
      },
      "execution_count": null,
      "outputs": []
    },
    {
      "cell_type": "code",
      "source": [
        "# Set URL of second page I want to scrape\n",
        "URL2 = \"https://en.wikipedia.org/wiki/Cost_of_electricity_by_source\"\n",
        "\n",
        "#HTML request\n",
        "html = requests.get(URL2)\n",
        "soup = BeautifulSoup(html.content, 'html.parser')"
      ],
      "metadata": {
        "id": "7_SlQl58Mt34"
      },
      "execution_count": 47,
      "outputs": []
    },
    {
      "cell_type": "code",
      "source": [
        "# The data is included within a 'ul' element\n",
        "# Get all ul elements\n",
        "# I only want the 9th 'section' of data\n",
        "soup_ul = soup.find_all(\"ul\")[8]\n",
        "soup_ul"
      ],
      "metadata": {
        "colab": {
          "base_uri": "https://localhost:8080/"
        },
        "id": "yqgNZJjVMt15",
        "outputId": "06fad593-37af-4bd1-e307-b395f81b11fa"
      },
      "execution_count": 55,
      "outputs": [
        {
          "output_type": "execute_result",
          "data": {
            "text/plain": [
              "<ul><li>gas/oil <a href=\"/wiki/Combined_cycle_power_plant\" title=\"Combined cycle power plant\">combined cycle power plant</a> - $1000/kW (2019)<sup class=\"reference\" id=\"cite_ref-aeo_11-0\"><a href=\"#cite_note-aeo-11\">[11]</a></sup></li>\n",
              "<li>combustion turbine - $710/kW (2020)<sup class=\"reference\" id=\"cite_ref-aeo_11-1\"><a href=\"#cite_note-aeo-11\">[11]</a></sup></li>\n",
              "<li>onshore wind - $1600/kW (2019)<sup class=\"reference\" id=\"cite_ref-aeo_11-2\"><a href=\"#cite_note-aeo-11\">[11]</a></sup></li>\n",
              "<li>offshore wind - $6500/kW (2019)<sup class=\"reference\" id=\"cite_ref-aeo_11-3\"><a href=\"#cite_note-aeo-11\">[11]</a></sup></li>\n",
              "<li>solar PV (fixed) - $1060/kW (utility),<sup class=\"reference\" id=\"cite_ref-nrel_12-0\"><a href=\"#cite_note-nrel-12\">[12]</a></sup> $1800/kW (2019)<sup class=\"reference\" id=\"cite_ref-aeo_11-4\"><a href=\"#cite_note-aeo-11\">[11]</a></sup></li>\n",
              "<li>solar PV (tracking)- $1130/kW (utility)<sup class=\"reference\" id=\"cite_ref-nrel_12-1\"><a href=\"#cite_note-nrel-12\">[12]</a></sup> $2000/kW (2019)<sup class=\"reference\" id=\"cite_ref-aeo_11-5\"><a href=\"#cite_note-aeo-11\">[11]</a></sup></li>\n",
              "<li>battery storage power - $1380/kW (2020)<sup class=\"reference\" id=\"cite_ref-aeo_11-6\"><a href=\"#cite_note-aeo-11\">[11]</a></sup></li>\n",
              "<li>conventional hydropower - $2752/kW (2020)<sup class=\"reference\" id=\"cite_ref-aeo_11-7\"><a href=\"#cite_note-aeo-11\">[11]</a></sup></li>\n",
              "<li><a href=\"/wiki/Geothermal_energy\" title=\"Geothermal energy\">geothermal</a> - $2800/kW (2019)<sup class=\"reference\" id=\"cite_ref-aeo_11-8\"><a href=\"#cite_note-aeo-11\">[11]</a></sup></li>\n",
              "<li>coal (with SO2 and NOx controls)- $3500–3800/kW<sup class=\"reference\" id=\"cite_ref-13\"><a href=\"#cite_note-13\">[13]</a></sup></li>\n",
              "<li>advanced nuclear - $6000/kW (2019)<sup class=\"reference\" id=\"cite_ref-aeo_11-9\"><a href=\"#cite_note-aeo-11\">[11]</a></sup></li>\n",
              "<li>fuel cells - $7200/kW (2019)<sup class=\"reference\" id=\"cite_ref-aeo_11-10\"><a href=\"#cite_note-aeo-11\">[11]</a></sup></li></ul>"
            ]
          },
          "metadata": {},
          "execution_count": 55
        }
      ]
    },
    {
      "cell_type": "code",
      "source": [
        ""
      ],
      "metadata": {
        "id": "L59kH9CoVU9B"
      },
      "execution_count": null,
      "outputs": []
    },
    {
      "cell_type": "code",
      "source": [
        "soup_1 = soup.find_all(\"div\", class_=\"reference\")\n",
        "soup_1"
      ],
      "metadata": {
        "colab": {
          "base_uri": "https://localhost:8080/"
        },
        "id": "H4o7K4bUTeU7",
        "outputId": "62981b65-264a-48f9-8d47-0efe2546c6c9"
      },
      "execution_count": 53,
      "outputs": [
        {
          "output_type": "execute_result",
          "data": {
            "text/plain": [
              "[]"
            ]
          },
          "metadata": {},
          "execution_count": 53
        }
      ]
    },
    {
      "cell_type": "code",
      "source": [
        "# Turn it into text\n",
        "soup_ul.text"
      ],
      "metadata": {
        "colab": {
          "base_uri": "https://localhost:8080/",
          "height": 105
        },
        "id": "PyVk41vnMtzZ",
        "outputId": "ef1fce2e-6094-4587-94d8-3d546bcdeef1"
      },
      "execution_count": 56,
      "outputs": [
        {
          "output_type": "execute_result",
          "data": {
            "application/vnd.google.colaboratory.intrinsic+json": {
              "type": "string"
            },
            "text/plain": [
              "'gas/oil combined cycle power plant - $1000/kW (2019)[11]\\ncombustion turbine - $710/kW (2020)[11]\\nonshore wind - $1600/kW (2019)[11]\\noffshore wind - $6500/kW (2019)[11]\\nsolar PV (fixed) - $1060/kW (utility),[12] $1800/kW (2019)[11]\\nsolar PV (tracking)- $1130/kW (utility)[12] $2000/kW (2019)[11]\\nbattery storage power - $1380/kW (2020)[11]\\nconventional hydropower - $2752/kW (2020)[11]\\ngeothermal - $2800/kW (2019)[11]\\ncoal (with SO2 and NOx controls)- $3500–3800/kW[13]\\nadvanced nuclear - $6000/kW (2019)[11]\\nfuel cells - $7200/kW (2019)[11]'"
            ]
          },
          "metadata": {},
          "execution_count": 56
        }
      ]
    },
    {
      "cell_type": "code",
      "source": [
        ""
      ],
      "metadata": {
        "id": "n0VoWRqEMtxL"
      },
      "execution_count": null,
      "outputs": []
    },
    {
      "cell_type": "code",
      "metadata": {
        "id": "nlovJ-kg-DxX"
      },
      "source": [
        "df.to_csv(\"week7_C02EmissionValue.csv\")"
      ],
      "execution_count": 7,
      "outputs": []
    },
    {
      "cell_type": "code",
      "metadata": {
        "id": "RD-hwD2BCQOf"
      },
      "source": [
        ""
      ],
      "execution_count": null,
      "outputs": []
    }
  ]
}